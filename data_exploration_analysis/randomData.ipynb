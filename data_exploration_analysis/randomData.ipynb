{
 "cells": [
  {
   "cell_type": "markdown",
   "id": "e8e7bfd1",
   "metadata": {},
   "source": [
    "# Generating Random Data"
   ]
  },
  {
   "cell_type": "code",
   "execution_count": 3,
   "id": "24550aec",
   "metadata": {},
   "outputs": [],
   "source": [
    "import pandas as pd"
   ]
  },
  {
   "cell_type": "code",
   "execution_count": 10,
   "id": "0ce30d13",
   "metadata": {},
   "outputs": [
    {
     "name": "stdout",
     "output_type": "stream",
     "text": [
      "<class 'pandas.core.frame.DataFrame'>\n",
      "RangeIndex: 3436 entries, 0 to 3435\n",
      "Data columns (total 20 columns):\n",
      " #   Column                          Non-Null Count  Dtype  \n",
      "---  ------                          --------------  -----  \n",
      " 0   StudentID                       3436 non-null   float64\n",
      " 1   Age                             3436 non-null   int64  \n",
      " 2   Gender                          3436 non-null   int64  \n",
      " 3   Ethnicity                       3436 non-null   float64\n",
      " 4   ParentalEducation               3436 non-null   float64\n",
      " 5   StudyTimeWeekly                 3436 non-null   float64\n",
      " 6   Absences                        3436 non-null   int64  \n",
      " 7   Tutoring                        3436 non-null   int64  \n",
      " 8   ParentalSupport                 3436 non-null   int64  \n",
      " 9   Extracurricular                 3436 non-null   int64  \n",
      " 10  Sports                          3436 non-null   float64\n",
      " 11  Music                           3436 non-null   float64\n",
      " 12  Volunteering                    3436 non-null   float64\n",
      " 13  GPA                             3436 non-null   float64\n",
      " 14  GradeClass                      3436 non-null   float64\n",
      " 15  PursueHigherEducation           3436 non-null   float64\n",
      " 16  InternetAccessAtHome            3436 non-null   float64\n",
      " 17  StrengthOfFamilialRelationship  3436 non-null   float64\n",
      " 18  FreetimeAfterSchool             3436 non-null   float64\n",
      " 19  HealthStatus                    3436 non-null   float64\n",
      "dtypes: float64(14), int64(6)\n",
      "memory usage: 537.0 KB\n"
     ]
    }
   ],
   "source": [
    "beforeRandom = pd.read_csv(\"/Users/johnathangarcia/Downloads/studentPerformancePredictor/data/intermediate_csvs/merged.csv\")\n",
    "beforeRandom.info()"
   ]
  },
  {
   "cell_type": "code",
   "execution_count": 11,
   "id": "57ea1d12",
   "metadata": {},
   "outputs": [
    {
     "name": "stdout",
     "output_type": "stream",
     "text": [
      "<class 'pandas.core.frame.DataFrame'>\n",
      "RangeIndex: 5000 entries, 0 to 4999\n",
      "Data columns (total 21 columns):\n",
      " #   Column                          Non-Null Count  Dtype  \n",
      "---  ------                          --------------  -----  \n",
      " 0   StudentID                       5000 non-null   float64\n",
      " 1   Age                             5000 non-null   int64  \n",
      " 2   Gender                          5000 non-null   int64  \n",
      " 3   Ethnicity                       5000 non-null   int64  \n",
      " 4   ParentalEducation               5000 non-null   int64  \n",
      " 5   StudyTimeWeekly                 5000 non-null   int64  \n",
      " 6   Absences                        5000 non-null   int64  \n",
      " 7   Tutoring                        5000 non-null   int64  \n",
      " 8   ParentalSupport                 5000 non-null   int64  \n",
      " 9   Extracurricular                 5000 non-null   int64  \n",
      " 10  Sports                          5000 non-null   int64  \n",
      " 11  Music                           5000 non-null   int64  \n",
      " 12  Volunteering                    5000 non-null   int64  \n",
      " 13  GPA                             5000 non-null   float64\n",
      " 14  GradeClass                      5000 non-null   float64\n",
      " 15  PursueHigherEducation           5000 non-null   int64  \n",
      " 16  InternetAccessAtHome            5000 non-null   int64  \n",
      " 17  StrengthOfFamilialRelationship  5000 non-null   int64  \n",
      " 18  FreetimeAfterSchool             5000 non-null   int64  \n",
      " 19  HealthStatus                    5000 non-null   int64  \n",
      " 20  is_synthetic                    5000 non-null   int64  \n",
      "dtypes: float64(3), int64(18)\n",
      "memory usage: 820.4 KB\n"
     ]
    }
   ],
   "source": [
    "afterRandom = pd.read_csv(\"/Users/johnathangarcia/Downloads/studentPerformancePredictor/data/intermediate_csvs/merged_with_synthetic.csv\")\n",
    "afterRandom.info()"
   ]
  },
  {
   "cell_type": "code",
   "execution_count": 62,
   "id": "0777d6e8",
   "metadata": {},
   "outputs": [],
   "source": [
    "afterRandom.to_csv(\"final_dataset.csv\", index = False)"
   ]
  },
  {
   "cell_type": "code",
   "execution_count": 12,
   "id": "6f52db99",
   "metadata": {},
   "outputs": [
    {
     "name": "stdout",
     "output_type": "stream",
     "text": [
      "<class 'pandas.core.frame.DataFrame'>\n",
      "RangeIndex: 5000 entries, 0 to 4999\n",
      "Data columns (total 21 columns):\n",
      " #   Column                          Non-Null Count  Dtype  \n",
      "---  ------                          --------------  -----  \n",
      " 0   StudentID                       5000 non-null   float64\n",
      " 1   Age                             5000 non-null   int64  \n",
      " 2   Gender                          5000 non-null   int64  \n",
      " 3   Ethnicity                       5000 non-null   int64  \n",
      " 4   ParentalEducation               5000 non-null   int64  \n",
      " 5   StudyTimeWeekly                 5000 non-null   int64  \n",
      " 6   Absences                        5000 non-null   int64  \n",
      " 7   Tutoring                        5000 non-null   int64  \n",
      " 8   ParentalSupport                 5000 non-null   int64  \n",
      " 9   Extracurricular                 5000 non-null   int64  \n",
      " 10  Sports                          5000 non-null   int64  \n",
      " 11  Music                           5000 non-null   int64  \n",
      " 12  Volunteering                    5000 non-null   int64  \n",
      " 13  GPA                             5000 non-null   float64\n",
      " 14  GradeClass                      5000 non-null   float64\n",
      " 15  PursueHigherEducation           5000 non-null   int64  \n",
      " 16  InternetAccessAtHome            5000 non-null   int64  \n",
      " 17  StrengthOfFamilialRelationship  5000 non-null   int64  \n",
      " 18  FreetimeAfterSchool             5000 non-null   int64  \n",
      " 19  HealthStatus                    5000 non-null   int64  \n",
      " 20  is_synthetic                    5000 non-null   int64  \n",
      "dtypes: float64(3), int64(18)\n",
      "memory usage: 820.4 KB\n"
     ]
    }
   ],
   "source": [
    "afterRandom.info()"
   ]
  },
  {
   "cell_type": "code",
   "execution_count": null,
   "id": "87a096c1",
   "metadata": {},
   "outputs": [],
   "source": []
  }
 ],
 "metadata": {
  "kernelspec": {
   "display_name": ".venv",
   "language": "python",
   "name": "python3"
  },
  "language_info": {
   "codemirror_mode": {
    "name": "ipython",
    "version": 3
   },
   "file_extension": ".py",
   "mimetype": "text/x-python",
   "name": "python",
   "nbconvert_exporter": "python",
   "pygments_lexer": "ipython3",
   "version": "3.12.9"
  }
 },
 "nbformat": 4,
 "nbformat_minor": 5
}
