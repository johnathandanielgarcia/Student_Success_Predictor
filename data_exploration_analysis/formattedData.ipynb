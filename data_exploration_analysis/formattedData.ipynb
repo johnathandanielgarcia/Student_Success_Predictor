{
 "cells": [
  {
   "cell_type": "code",
   "execution_count": 2,
   "id": "3eda618c",
   "metadata": {},
   "outputs": [],
   "source": [
    "import numpy as np\n",
    "import pandas as pd"
   ]
  },
  {
   "cell_type": "code",
   "execution_count": 11,
   "id": "53a8d05d",
   "metadata": {},
   "outputs": [],
   "source": [
    "biggerDF = pd.read_csv(\"/Users/johnathangarcia/Downloads/studentPerformancePredictor/data/final_dataset.csv\")"
   ]
  },
  {
   "cell_type": "code",
   "execution_count": 12,
   "id": "a64f5e50",
   "metadata": {},
   "outputs": [
    {
     "name": "stdout",
     "output_type": "stream",
     "text": [
      "<class 'pandas.core.frame.DataFrame'>\n",
      "RangeIndex: 105000 entries, 0 to 104999\n",
      "Data columns (total 19 columns):\n",
      " #   Column                          Non-Null Count   Dtype  \n",
      "---  ------                          --------------   -----  \n",
      " 0   Age                             105000 non-null  int64  \n",
      " 1   Gender                          105000 non-null  int64  \n",
      " 2   Ethnicity                       105000 non-null  int64  \n",
      " 3   ParentalEducation               105000 non-null  int64  \n",
      " 4   StudyTimeWeekly                 105000 non-null  int64  \n",
      " 5   Absences                        105000 non-null  int64  \n",
      " 6   Tutoring                        105000 non-null  int64  \n",
      " 7   ParentalSupport                 105000 non-null  int64  \n",
      " 8   Extracurricular                 105000 non-null  int64  \n",
      " 9   Sports                          105000 non-null  int64  \n",
      " 10  Music                           105000 non-null  int64  \n",
      " 11  Volunteering                    105000 non-null  int64  \n",
      " 12  GPA                             105000 non-null  float64\n",
      " 13  GradeClass                      105000 non-null  int64  \n",
      " 14  PursueHigherEducation           105000 non-null  int64  \n",
      " 15  InternetAccessAtHome            105000 non-null  int64  \n",
      " 16  StrengthOfFamilialRelationship  105000 non-null  int64  \n",
      " 17  FreetimeAfterSchool             105000 non-null  int64  \n",
      " 18  HealthStatus                    105000 non-null  int64  \n",
      "dtypes: float64(1), int64(18)\n",
      "memory usage: 15.2 MB\n"
     ]
    }
   ],
   "source": [
    "biggerDF = biggerDF.drop(columns = [\"StudentID\"])\n",
    "biggerDF.info()"
   ]
  },
  {
   "cell_type": "code",
   "execution_count": 10,
   "id": "20f13675",
   "metadata": {},
   "outputs": [],
   "source": [
    "biggerDF.to_csv(\"biggerDF.csv\", index = False)"
   ]
  },
  {
   "cell_type": "code",
   "execution_count": null,
   "id": "7aa90b53",
   "metadata": {},
   "outputs": [],
   "source": []
  }
 ],
 "metadata": {
  "kernelspec": {
   "display_name": ".venv",
   "language": "python",
   "name": "python3"
  },
  "language_info": {
   "codemirror_mode": {
    "name": "ipython",
    "version": 3
   },
   "file_extension": ".py",
   "mimetype": "text/x-python",
   "name": "python",
   "nbconvert_exporter": "python",
   "pygments_lexer": "ipython3",
   "version": "3.12.9"
  }
 },
 "nbformat": 4,
 "nbformat_minor": 5
}
